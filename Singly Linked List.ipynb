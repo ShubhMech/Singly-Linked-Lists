{
 "cells": [
  {
   "cell_type": "code",
   "execution_count": 4,
   "id": "dd8e556d-c772-4f5c-9b46-a42bfa572111",
   "metadata": {},
   "outputs": [],
   "source": [
    "class Nodes:\n",
    "    def __init__(self, value=None):\n",
    "        self.value= value\n",
    "        self.next= None\n",
    "    \n",
    "class SlinkedList:\n",
    "    def __init__(self):\n",
    "        self.head=None\n",
    "        self.tail= None"
   ]
  },
  {
   "cell_type": "code",
   "execution_count": 5,
   "id": "a9de6f33-87de-4837-b839-d9293fee43d0",
   "metadata": {},
   "outputs": [],
   "source": [
    "linked= SlinkedList()\n"
   ]
  },
  {
   "cell_type": "code",
   "execution_count": 8,
   "id": "a64e0cfd-493b-4374-8841-a07ce575c657",
   "metadata": {},
   "outputs": [
    {
     "name": "stdout",
     "output_type": "stream",
     "text": [
      "None\n"
     ]
    }
   ],
   "source": [
    "print(linked.head)"
   ]
  },
  {
   "cell_type": "code",
   "execution_count": 9,
   "id": "62ff0fb8-eaf7-4b60-ac21-9a3e6350c224",
   "metadata": {},
   "outputs": [
    {
     "name": "stdout",
     "output_type": "stream",
     "text": [
      "None\n"
     ]
    }
   ],
   "source": [
    "print(linked.tail)"
   ]
  },
  {
   "cell_type": "code",
   "execution_count": 10,
   "id": "a8aa13d4-44c5-44c7-9938-32fe08e91f9f",
   "metadata": {},
   "outputs": [],
   "source": [
    "node1= Nodes(15)"
   ]
  },
  {
   "cell_type": "code",
   "execution_count": 13,
   "id": "8adddc26-8ea0-4d3c-9848-4b67bcc1f7fd",
   "metadata": {},
   "outputs": [],
   "source": [
    "node2= Nodes(150)"
   ]
  },
  {
   "cell_type": "code",
   "execution_count": 14,
   "id": "fc4968c7-5e2b-4730-af2b-b44655db07b8",
   "metadata": {},
   "outputs": [
    {
     "data": {
      "text/plain": [
       "15"
      ]
     },
     "execution_count": 14,
     "metadata": {},
     "output_type": "execute_result"
    }
   ],
   "source": [
    "node1.value"
   ]
  },
  {
   "cell_type": "code",
   "execution_count": 15,
   "id": "89519305-b9d7-446c-a53e-97a43c7ac97c",
   "metadata": {},
   "outputs": [],
   "source": [
    "linked.head=node1"
   ]
  },
  {
   "cell_type": "code",
   "execution_count": 16,
   "id": "973cd18e-17af-4ebe-b437-85f4b66d56c9",
   "metadata": {},
   "outputs": [],
   "source": [
    "node1.next=node2"
   ]
  },
  {
   "cell_type": "code",
   "execution_count": null,
   "id": "270e8fc2-9029-4a61-9f92-2f33aad8c9cc",
   "metadata": {},
   "outputs": [],
   "source": []
  }
 ],
 "metadata": {
  "kernelspec": {
   "display_name": "Python 3",
   "language": "python",
   "name": "python3"
  },
  "language_info": {
   "codemirror_mode": {
    "name": "ipython",
    "version": 3
   },
   "file_extension": ".py",
   "mimetype": "text/x-python",
   "name": "python",
   "nbconvert_exporter": "python",
   "pygments_lexer": "ipython3",
   "version": "3.8.5"
  }
 },
 "nbformat": 4,
 "nbformat_minor": 5
}
