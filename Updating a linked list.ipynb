{
 "cells": [
  {
   "cell_type": "code",
   "execution_count": 2,
   "id": "7804bb6c-5667-45fd-a1df-6f383d20ac5d",
   "metadata": {},
   "outputs": [
    {
     "name": "stdout",
     "output_type": "stream",
     "text": [
      "None\n",
      "None\n"
     ]
    }
   ],
   "source": [
    "class Nodes:\n",
    "    def __init__(self, value=None):\n",
    "        self.value= value\n",
    "        self.next= None\n",
    "    \n",
    "class SlinkedList:\n",
    "    def __init__(self):\n",
    "        self.head=None\n",
    "        self.tail= None\n",
    "        \n",
    "linked= SlinkedList()\n",
    "print(linked.head)\n",
    "print(linked.tail)\n",
    "node1= Nodes(15)\n",
    "node2= Nodes(150)\n",
    "node1.value\n",
    "linked.head=node1\n",
    "node1.next=node2"
   ]
  },
  {
   "cell_type": "code",
   "execution_count": 4,
   "id": "5c4ad4b0-eacf-48db-a4af-ad4c0187a0ab",
   "metadata": {},
   "outputs": [
    {
     "data": {
      "text/plain": [
       "15"
      ]
     },
     "execution_count": 4,
     "metadata": {},
     "output_type": "execute_result"
    }
   ],
   "source": [
    "node1.value"
   ]
  },
  {
   "cell_type": "code",
   "execution_count": 5,
   "id": "5a9df9e5-0be8-440e-a134-76a88632f786",
   "metadata": {},
   "outputs": [
    {
     "data": {
      "text/plain": [
       "<__main__.Nodes at 0x250cdc7f880>"
      ]
     },
     "execution_count": 5,
     "metadata": {},
     "output_type": "execute_result"
    }
   ],
   "source": [
    "node1.next"
   ]
  },
  {
   "cell_type": "code",
   "execution_count": 6,
   "id": "7c43faf3-2bd4-42bd-a469-73d36a4f5023",
   "metadata": {},
   "outputs": [
    {
     "data": {
      "text/plain": [
       "150"
      ]
     },
     "execution_count": 6,
     "metadata": {},
     "output_type": "execute_result"
    }
   ],
   "source": [
    "node1.next.value"
   ]
  },
  {
   "cell_type": "code",
   "execution_count": 8,
   "id": "81ca4700-1500-4693-883d-f2e47ac844d1",
   "metadata": {},
   "outputs": [
    {
     "name": "stdout",
     "output_type": "stream",
     "text": [
      "None\n"
     ]
    }
   ],
   "source": [
    "print(node1.next.next)"
   ]
  },
  {
   "cell_type": "markdown",
   "id": "3f3b4a15-7738-42d2-9bc0-1a5ab3e98417",
   "metadata": {},
   "source": [
    "### Updating the linked list with a new value\n",
    "\n",
    "Let's say we want to insert a new value at the beginning of the list"
   ]
  },
  {
   "cell_type": "code",
   "execution_count": 9,
   "id": "10d09712-f96f-4efb-97f9-c67bab1af86d",
   "metadata": {},
   "outputs": [],
   "source": [
    "node0= Nodes(10)"
   ]
  },
  {
   "cell_type": "code",
   "execution_count": 10,
   "id": "b6402f8b-293a-4b90-9892-ed8c88cce49e",
   "metadata": {},
   "outputs": [],
   "source": [
    "node0.next=node1"
   ]
  },
  {
   "cell_type": "code",
   "execution_count": 11,
   "id": "20346474-c3c5-4fd5-ac0f-e17123928697",
   "metadata": {},
   "outputs": [],
   "source": [
    "linked.head=node0"
   ]
  },
  {
   "cell_type": "markdown",
   "id": "cb461e73-5c02-4b60-8079-e82a57696db9",
   "metadata": {},
   "source": [
    "### Updating the linked list with a new value\n",
    "\n",
    "Let's say we want to insert a new value at the end of the list"
   ]
  },
  {
   "cell_type": "code",
   "execution_count": 12,
   "id": "21767d52-ee60-424f-ac5d-2cb5fd011a4a",
   "metadata": {},
   "outputs": [],
   "source": [
    "node3=Nodes(1000)"
   ]
  },
  {
   "cell_type": "code",
   "execution_count": 13,
   "id": "a3a1b46c-dc1c-4bdf-935b-ee83d79a40f1",
   "metadata": {},
   "outputs": [],
   "source": [
    "node2.next=node3"
   ]
  },
  {
   "cell_type": "markdown",
   "id": "2137049d-4b51-4caf-908f-b97562777903",
   "metadata": {},
   "source": [
    "### Updating the linked list with a new value\n",
    "\n",
    "Let's say we want to insert a new value at the middle of the list"
   ]
  },
  {
   "cell_type": "code",
   "execution_count": 14,
   "id": "a73a8031-4a1b-4067-a1ef-04c45e7593d1",
   "metadata": {},
   "outputs": [],
   "source": [
    "node_2=Nodes(45)"
   ]
  },
  {
   "cell_type": "code",
   "execution_count": 15,
   "id": "636e3d53-e1ae-488d-964b-55979413d5f2",
   "metadata": {},
   "outputs": [],
   "source": [
    "node2.next=node_2"
   ]
  },
  {
   "cell_type": "code",
   "execution_count": 16,
   "id": "59be8c12-dec9-4d30-b24f-864116867e81",
   "metadata": {},
   "outputs": [],
   "source": [
    "node_2.next=node3"
   ]
  },
  {
   "cell_type": "code",
   "execution_count": null,
   "id": "e0a883f5-c88e-48dd-a9eb-8319bdb17ca3",
   "metadata": {},
   "outputs": [],
   "source": []
  }
 ],
 "metadata": {
  "kernelspec": {
   "display_name": "Python 3",
   "language": "python",
   "name": "python3"
  },
  "language_info": {
   "codemirror_mode": {
    "name": "ipython",
    "version": 3
   },
   "file_extension": ".py",
   "mimetype": "text/x-python",
   "name": "python",
   "nbconvert_exporter": "python",
   "pygments_lexer": "ipython3",
   "version": "3.8.5"
  }
 },
 "nbformat": 4,
 "nbformat_minor": 5
}
