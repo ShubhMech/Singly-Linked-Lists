{
 "cells": [
  {
   "cell_type": "code",
   "execution_count": 63,
   "id": "73fed773-3db1-4d3a-b849-20aed71eaabe",
   "metadata": {},
   "outputs": [
    {
     "name": "stdout",
     "output_type": "stream",
     "text": [
      "<__main__.Nodes object at 0x000001F4E0C122E0>\n",
      "<__main__.Nodes object at 0x000001F4E0C122E0>\n",
      "<__main__.Nodes object at 0x000001F4E0C12400>\n",
      "<__main__.Nodes object at 0x000001F4E0C12400>\n",
      "None\n",
      "<__main__.Nodes object at 0x000001F4E0C12400>\n",
      "<__main__.Nodes object at 0x000001F4E0C122E0>\n"
     ]
    }
   ],
   "source": [
    "class Nodes:\n",
    "    def __init__(self, value=None):\n",
    "        self.value= value\n",
    "        self.next= None\n",
    "    \n",
    "    \n",
    "class SlinkedList:\n",
    "    def __init__(self):\n",
    "        self.head=None\n",
    "        self.tail= None\n",
    "        \n",
    "    def insert(self,value,location):\n",
    "        newNode=Nodes(value)\n",
    "        if self.head ==None:\n",
    "            self.head=newNode\n",
    "            self.tail=newNode\n",
    "            \n",
    "        elif location==0:\n",
    "#             newNode=Nodes(value)\n",
    "            newNode.next=self.head\n",
    "            self.head=newNode\n",
    "            \n",
    "        elif location==-1:\n",
    "#             newNode=Nodes(value)\n",
    "            self.tail.next=newNode\n",
    "            self.tail=newNode\n",
    "            \n",
    "        else:\n",
    "            temp_node=self.head\n",
    "            i=0\n",
    "            while i<location-1:\n",
    "                temp_node=temp_node.next\n",
    "                i += 1\n",
    "                \n",
    "            newNode.next=temp_node.next\n",
    "            temp_node.next=newNode\n",
    "                \n",
    "            if temp_node== self.tail:\n",
    "                self.tail=newNode\n",
    "        \n",
    "        return newNode\n",
    "\n",
    "                \n",
    "                \n",
    "ob1= SlinkedList()\n",
    "\n",
    "node1=ob1.insert(1,0)\n",
    "print(ob1.head)\n",
    "print(ob1.tail)\n",
    "\n",
    "node2=ob1.insert(2,-1)\n",
    "print(node1.next)\n",
    "print(ob1.tail)\n",
    "\n",
    "node3= ob1.insert(3,0)\n",
    "print(node2.next)\n",
    "print(ob1.tail)\n",
    "\n",
    "print(node3.next)\n",
    "                \n",
    "node1.next==node2\n",
    "\n",
    "node4=ob1.insert(4,2)\n",
    "\n",
    "\n",
    "node4= ob1.insert(5,1)\n",
    "node5=ob1.insert(6,2)\n",
    "            \n",
    "            \n",
    "        \n",
    "        \n",
    "        "
   ]
  },
  {
   "cell_type": "code",
   "execution_count": 64,
   "id": "fb56ccbd-75ee-4fba-92d6-3829e0c55bb3",
   "metadata": {},
   "outputs": [],
   "source": [
    "def node_traversal(head):\n",
    "    i=0\n",
    "    temp=head\n",
    "    if head is None:\n",
    "        print(\"No nodes to print\")\n",
    "    while(True):\n",
    "        print(f\"The {i}th node is:\")\n",
    "        \n",
    "        print(temp)\n",
    "        print(f\"The value of the node is: {temp.value}\" )\n",
    "               \n",
    "        temp=temp.next \n",
    "        \n",
    "        \n",
    "        if temp is None:\n",
    "            break\n",
    "#             print(\"The next node for this node is: \", temp.next )\n",
    "\n",
    "        i +=1\n",
    "        \n",
    "        "
   ]
  },
  {
   "cell_type": "code",
   "execution_count": 55,
   "id": "1cf80268-e6ef-44d5-a26e-dd96d2f08678",
   "metadata": {},
   "outputs": [
    {
     "name": "stdout",
     "output_type": "stream",
     "text": [
      "The 0th node is:\n",
      "<__main__.Nodes object at 0x000001F4E0B501F0>\n",
      "The value of the node is: 3\n",
      "The 1th node is:\n",
      "<__main__.Nodes object at 0x000001F4E0B50640>\n",
      "The value of the node is: 5\n",
      "The 2th node is:\n",
      "<__main__.Nodes object at 0x000001F4E0B50610>\n",
      "The value of the node is: 6\n",
      "The 3th node is:\n",
      "<__main__.Nodes object at 0x000001F4E0C12610>\n",
      "The value of the node is: 1\n",
      "The 4th node is:\n",
      "<__main__.Nodes object at 0x000001F4E0B507C0>\n",
      "The value of the node is: 4\n",
      "The 5th node is:\n",
      "<__main__.Nodes object at 0x000001F4E0C12C40>\n",
      "The value of the node is: 2\n"
     ]
    }
   ],
   "source": [
    "node_traversal(ob1.head)"
   ]
  },
  {
   "cell_type": "code",
   "execution_count": 65,
   "id": "f9e71ffb-6e41-4118-a375-49226374fa8d",
   "metadata": {},
   "outputs": [
    {
     "data": {
      "text/plain": [
       "2"
      ]
     },
     "execution_count": 65,
     "metadata": {},
     "output_type": "execute_result"
    }
   ],
   "source": [
    "ob1.tail.value"
   ]
  },
  {
   "cell_type": "code",
   "execution_count": 66,
   "id": "ac417201-e305-46be-8964-ba2a9bb36969",
   "metadata": {},
   "outputs": [],
   "source": [
    "def delete(ob,value):\n",
    "    head=ob.head\n",
    "    try:\n",
    "        if head is None:\n",
    "            print(\"There is nothing to delete!\")\n",
    "        elif head.value==value:\n",
    "            next_=head.next\n",
    "            ob.head=next_\n",
    "\n",
    "        else:\n",
    "            prev=head\n",
    "            while(True):\n",
    "                temp=prev.next\n",
    "\n",
    "                if temp.value==value and prev.next==None:\n",
    "                    prev.next=None\n",
    "                    ob.tail=prev\n",
    "                    break\n",
    "\n",
    "                elif  temp.value != value and prev.next==None:\n",
    "                    print(\"Value not found\")\n",
    "\n",
    "                elif temp.value==value:\n",
    "                    prev.next= temp.next\n",
    "                    break\n",
    "\n",
    "                prev=temp\n",
    "\n",
    "    except:\n",
    "        print(\"Value isn't at any of the node!!\")\n",
    "            \n",
    "        "
   ]
  },
  {
   "cell_type": "code",
   "execution_count": 67,
   "id": "6bc55943-464d-445c-821b-81a64b1e8e94",
   "metadata": {},
   "outputs": [],
   "source": [
    "delete(ob1,2)"
   ]
  },
  {
   "cell_type": "code",
   "execution_count": 68,
   "id": "92a20764-4bae-46bb-b25a-dc18bfefb96f",
   "metadata": {},
   "outputs": [],
   "source": [
    "def node_traversal(head):\n",
    "    i=0\n",
    "    temp=head\n",
    "    if head is None:\n",
    "        print(\"No nodes to print\")\n",
    "    while(True):\n",
    "        print(f\"The {i}th node is:\")\n",
    "        \n",
    "        print(temp)\n",
    "        print(f\"The value of the node is: {temp.value}\" )\n",
    "               \n",
    "        temp=temp.next \n",
    "        \n",
    "        \n",
    "        if temp is None:\n",
    "            break\n",
    "#             print(\"The next node for this node is: \", temp.next )\n",
    "\n",
    "        i +=1\n",
    "        \n",
    "        "
   ]
  },
  {
   "cell_type": "code",
   "execution_count": 69,
   "id": "87486e28-7471-4ba6-8f13-6921adfcb7ec",
   "metadata": {},
   "outputs": [
    {
     "name": "stdout",
     "output_type": "stream",
     "text": [
      "The 0th node is:\n",
      "<__main__.Nodes object at 0x000001F4E0B506D0>\n",
      "The value of the node is: 3\n",
      "The 1th node is:\n",
      "<__main__.Nodes object at 0x000001F4E0B50370>\n",
      "The value of the node is: 5\n",
      "The 2th node is:\n",
      "<__main__.Nodes object at 0x000001F4E0B503A0>\n",
      "The value of the node is: 6\n",
      "The 3th node is:\n",
      "<__main__.Nodes object at 0x000001F4E0C122E0>\n",
      "The value of the node is: 1\n",
      "The 4th node is:\n",
      "<__main__.Nodes object at 0x000001F4E0B50760>\n",
      "The value of the node is: 4\n"
     ]
    }
   ],
   "source": [
    "node_traversal(ob1.head)       "
   ]
  },
  {
   "cell_type": "code",
   "execution_count": 70,
   "id": "3470dd0d-a8a3-45bb-9126-2b0c305a5880",
   "metadata": {},
   "outputs": [
    {
     "name": "stdout",
     "output_type": "stream",
     "text": [
      "Value isn't at any of the node!!\n"
     ]
    }
   ],
   "source": [
    "delete(ob1,2)\n",
    "# node_traversal(ob1.head)"
   ]
  },
  {
   "cell_type": "code",
   "execution_count": 71,
   "id": "388d63ee-bfa3-4abc-bd5c-de8605591c43",
   "metadata": {},
   "outputs": [
    {
     "name": "stdout",
     "output_type": "stream",
     "text": [
      "The 0th node is:\n",
      "<__main__.Nodes object at 0x000001F4E0B50370>\n",
      "The value of the node is: 5\n",
      "The 1th node is:\n",
      "<__main__.Nodes object at 0x000001F4E0B503A0>\n",
      "The value of the node is: 6\n",
      "The 2th node is:\n",
      "<__main__.Nodes object at 0x000001F4E0C122E0>\n",
      "The value of the node is: 1\n",
      "The 3th node is:\n",
      "<__main__.Nodes object at 0x000001F4E0B50760>\n",
      "The value of the node is: 4\n"
     ]
    }
   ],
   "source": [
    "delete(ob1,3)\n",
    "node_traversal(ob1.head)"
   ]
  },
  {
   "cell_type": "code",
   "execution_count": 72,
   "id": "113c2b6c-dd3d-4920-acfb-05458c173cba",
   "metadata": {},
   "outputs": [
    {
     "name": "stdout",
     "output_type": "stream",
     "text": [
      "Value isn't at any of the node!!\n"
     ]
    }
   ],
   "source": [
    "delete(ob1,21)"
   ]
  },
  {
   "cell_type": "code",
   "execution_count": 73,
   "id": "e8c57454-19e0-4507-9f91-bacddc15772b",
   "metadata": {},
   "outputs": [
    {
     "name": "stdout",
     "output_type": "stream",
     "text": [
      "The 0th node is:\n",
      "<__main__.Nodes object at 0x000001F4E0B503A0>\n",
      "The value of the node is: 6\n",
      "The 1th node is:\n",
      "<__main__.Nodes object at 0x000001F4E0C122E0>\n",
      "The value of the node is: 1\n",
      "The 2th node is:\n",
      "<__main__.Nodes object at 0x000001F4E0B50760>\n",
      "The value of the node is: 4\n"
     ]
    }
   ],
   "source": [
    "delete(ob1,5)\n",
    "node_traversal(ob1.head)"
   ]
  },
  {
   "cell_type": "code",
   "execution_count": 74,
   "id": "a261008c-7cc9-4685-abee-8da528013466",
   "metadata": {},
   "outputs": [
    {
     "name": "stdout",
     "output_type": "stream",
     "text": [
      "The 0th node is:\n",
      "<__main__.Nodes object at 0x000001F4E0C122E0>\n",
      "The value of the node is: 1\n",
      "The 1th node is:\n",
      "<__main__.Nodes object at 0x000001F4E0B50760>\n",
      "The value of the node is: 4\n"
     ]
    }
   ],
   "source": [
    "delete(ob1,6)\n",
    "node_traversal(ob1.head)"
   ]
  },
  {
   "cell_type": "code",
   "execution_count": 75,
   "id": "bfa82576-5cbb-4962-883f-1549aa85f9ee",
   "metadata": {},
   "outputs": [
    {
     "name": "stdout",
     "output_type": "stream",
     "text": [
      "The 0th node is:\n",
      "<__main__.Nodes object at 0x000001F4E0C122E0>\n",
      "The value of the node is: 1\n"
     ]
    }
   ],
   "source": [
    "delete(ob1,4)\n",
    "node_traversal(ob1.head)"
   ]
  },
  {
   "cell_type": "code",
   "execution_count": 77,
   "id": "4ce912c0-e4a6-4156-9429-3edb53785618",
   "metadata": {},
   "outputs": [
    {
     "name": "stdout",
     "output_type": "stream",
     "text": [
      "There is nothing to delete!\n"
     ]
    }
   ],
   "source": [
    "delete(ob1,1)\n"
   ]
  },
  {
   "cell_type": "code",
   "execution_count": null,
   "id": "6a2a3992-0778-488a-8fb2-bc4a70a9d598",
   "metadata": {},
   "outputs": [],
   "source": []
  }
 ],
 "metadata": {
  "kernelspec": {
   "display_name": "Python 3",
   "language": "python",
   "name": "python3"
  },
  "language_info": {
   "codemirror_mode": {
    "name": "ipython",
    "version": 3
   },
   "file_extension": ".py",
   "mimetype": "text/x-python",
   "name": "python",
   "nbconvert_exporter": "python",
   "pygments_lexer": "ipython3",
   "version": "3.8.5"
  }
 },
 "nbformat": 4,
 "nbformat_minor": 5
}
