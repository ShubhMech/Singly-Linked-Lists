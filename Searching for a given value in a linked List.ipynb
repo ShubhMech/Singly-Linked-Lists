{
 "cells": [
  {
   "cell_type": "code",
   "execution_count": 1,
   "id": "b2225675-0e96-43b5-a30b-131255ce6c42",
   "metadata": {},
   "outputs": [
    {
     "name": "stdout",
     "output_type": "stream",
     "text": [
      "<__main__.Nodes object at 0x0000021220B43C70>\n",
      "<__main__.Nodes object at 0x0000021220B43C70>\n",
      "<__main__.Nodes object at 0x0000021220824D60>\n",
      "<__main__.Nodes object at 0x0000021220824D60>\n",
      "None\n",
      "<__main__.Nodes object at 0x0000021220824D60>\n",
      "<__main__.Nodes object at 0x0000021220B43C70>\n"
     ]
    }
   ],
   "source": [
    "class Nodes:\n",
    "    def __init__(self, value=None):\n",
    "        self.value= value\n",
    "        self.next= None\n",
    "    \n",
    "    \n",
    "class SlinkedList:\n",
    "    def __init__(self):\n",
    "        self.head=None\n",
    "        self.tail= None\n",
    "        \n",
    "    def insert(self,value,location):\n",
    "        newNode=Nodes(value)\n",
    "        if self.head ==None:\n",
    "            self.head=newNode\n",
    "            self.tail=newNode\n",
    "            \n",
    "        elif location==0:\n",
    "#             newNode=Nodes(value)\n",
    "            newNode.next=self.head\n",
    "            self.head=newNode\n",
    "            \n",
    "        elif location==-1:\n",
    "#             newNode=Nodes(value)\n",
    "            self.tail.next=newNode\n",
    "            self.tail=newNode\n",
    "            \n",
    "        else:\n",
    "            temp_node=self.head\n",
    "            i=0\n",
    "            while i<location-1:\n",
    "                temp_node=temp_node.next\n",
    "                i += 1\n",
    "                \n",
    "            newNode.next=temp_node.next\n",
    "            temp_node.next=newNode\n",
    "                \n",
    "            if temp_node== self.tail:\n",
    "                self.tail=newNode\n",
    "        \n",
    "        return newNode\n",
    "\n",
    "                \n",
    "                \n",
    "ob1= SlinkedList()\n",
    "\n",
    "node1=ob1.insert(1,0)\n",
    "print(ob1.head)\n",
    "print(ob1.tail)\n",
    "\n",
    "node2=ob1.insert(2,-1)\n",
    "print(node1.next)\n",
    "print(ob1.tail)\n",
    "\n",
    "node3= ob1.insert(3,0)\n",
    "print(node2.next)\n",
    "print(ob1.tail)\n",
    "\n",
    "print(node3.next)\n",
    "                \n",
    "node1.next==node2\n",
    "\n",
    "node4=ob1.insert(4,2)\n",
    "\n",
    "\n",
    "\n",
    "            \n",
    "            \n",
    "        \n",
    "        \n",
    "        "
   ]
  },
  {
   "cell_type": "code",
   "execution_count": 4,
   "id": "f46b1a9d-089b-4eda-8c55-42efa6e53b7a",
   "metadata": {},
   "outputs": [],
   "source": [
    "def node_traversal(head):\n",
    "    i=0\n",
    "    temp=head\n",
    "    if head is None:\n",
    "        print(\"No nodes to print\")\n",
    "    while(True):\n",
    "        print(f\"The {i}th node is:\")\n",
    "        \n",
    "        print(temp)\n",
    "        print(f\"The value of the node is: {temp.value}\" )\n",
    "               \n",
    "        temp=temp.next \n",
    "        \n",
    "        \n",
    "        if temp is None:\n",
    "            break\n",
    "#             print(\"The next node for this node is: \", temp.next )\n",
    "\n",
    "        i +=1\n",
    "        \n",
    "        "
   ]
  },
  {
   "cell_type": "code",
   "execution_count": 5,
   "id": "d0d85f7f-86f6-4e9e-9814-320817db0a54",
   "metadata": {},
   "outputs": [
    {
     "name": "stdout",
     "output_type": "stream",
     "text": [
      "The 0th node is:\n",
      "<__main__.Nodes object at 0x000002122082CB20>\n",
      "The value of the node is: 3\n",
      "The 1th node is:\n",
      "<__main__.Nodes object at 0x0000021220B43C70>\n",
      "The value of the node is: 1\n",
      "The 2th node is:\n",
      "<__main__.Nodes object at 0x0000021220B435B0>\n",
      "The value of the node is: 4\n",
      "The 3th node is:\n",
      "<__main__.Nodes object at 0x0000021220824D60>\n",
      "The value of the node is: 2\n"
     ]
    }
   ],
   "source": [
    "node_traversal(ob1.head)"
   ]
  },
  {
   "cell_type": "code",
   "execution_count": 34,
   "id": "9a2bbe7c-f5bb-496f-a6d6-ee81efdaa783",
   "metadata": {},
   "outputs": [
    {
     "name": "stdout",
     "output_type": "stream",
     "text": [
      "The node where the value is found is:  2\n"
     ]
    },
    {
     "data": {
      "text/plain": [
       "('And the node is: ', <__main__.Nodes at 0x212219cff40>)"
      ]
     },
     "execution_count": 34,
     "metadata": {},
     "output_type": "execute_result"
    }
   ],
   "source": [
    "def search(head,num):\n",
    "    if head==None:\n",
    "        print(\"The list doesn't exist\")\n",
    "    elif head.value==num:\n",
    "        print(\"Found at the first node, and the element is:\", num)\n",
    "    else:\n",
    "        temp = head\n",
    "        while(temp is not None):\n",
    "            if temp.value==num:\n",
    "                print(\"The node where the value is found is: \", temp.value )\n",
    "                return (\"And the node is: \", temp)\n",
    "#                 break\n",
    "\n",
    "            elif temp.next==None:\n",
    "                print(\"The value is not found\")\n",
    "                break\n",
    "            else:\n",
    "                \n",
    "                temp=temp.next\n",
    "            \n",
    "            \n",
    "search(ob2.head,2)"
   ]
  },
  {
   "cell_type": "code",
   "execution_count": 6,
   "id": "b87642e8-b3c6-4d53-b69c-9c87e81292dd",
   "metadata": {},
   "outputs": [],
   "source": [
    "ob2=SlinkedList()"
   ]
  },
  {
   "cell_type": "code",
   "execution_count": 7,
   "id": "ad164e33-b09a-4363-8362-ee436f33918a",
   "metadata": {},
   "outputs": [],
   "source": [
    "ob2.head"
   ]
  },
  {
   "cell_type": "code",
   "execution_count": 8,
   "id": "cad2650b-4a67-4d9d-9c36-96e4f3bce6b8",
   "metadata": {},
   "outputs": [
    {
     "name": "stdout",
     "output_type": "stream",
     "text": [
      "The list doesn't exist\n"
     ]
    }
   ],
   "source": [
    "search(ob2.head,1)"
   ]
  },
  {
   "cell_type": "code",
   "execution_count": 9,
   "id": "bb31690f-542f-43d5-bba1-3928e3f87498",
   "metadata": {},
   "outputs": [
    {
     "data": {
      "text/plain": [
       "<__main__.Nodes at 0x212219d1fd0>"
      ]
     },
     "execution_count": 9,
     "metadata": {},
     "output_type": "execute_result"
    }
   ],
   "source": [
    "ob2.insert(1,0)"
   ]
  },
  {
   "cell_type": "code",
   "execution_count": 10,
   "id": "95c981bf-5014-41a9-9b8a-a788ca19ce14",
   "metadata": {},
   "outputs": [
    {
     "data": {
      "text/plain": [
       "<__main__.Nodes at 0x212219d1fd0>"
      ]
     },
     "execution_count": 10,
     "metadata": {},
     "output_type": "execute_result"
    }
   ],
   "source": [
    "ob2.head"
   ]
  },
  {
   "cell_type": "code",
   "execution_count": 11,
   "id": "04881556-5b9e-4ab1-902a-81e484abf570",
   "metadata": {},
   "outputs": [
    {
     "data": {
      "text/plain": [
       "1"
      ]
     },
     "execution_count": 11,
     "metadata": {},
     "output_type": "execute_result"
    }
   ],
   "source": [
    "ob2.head.value"
   ]
  },
  {
   "cell_type": "code",
   "execution_count": 13,
   "id": "65879871-c2a9-47ae-acf3-ef7a6d39b9fe",
   "metadata": {},
   "outputs": [
    {
     "data": {
      "text/plain": [
       "1"
      ]
     },
     "execution_count": 13,
     "metadata": {},
     "output_type": "execute_result"
    }
   ],
   "source": [
    "ob2.tail.value"
   ]
  },
  {
   "cell_type": "code",
   "execution_count": 14,
   "id": "266a9626-bc3a-42f0-9d09-62d33cb6172e",
   "metadata": {},
   "outputs": [
    {
     "name": "stdout",
     "output_type": "stream",
     "text": [
      "The length of the list is 1 and the element is: 1\n"
     ]
    }
   ],
   "source": [
    "search(ob2.head,1)"
   ]
  },
  {
   "cell_type": "code",
   "execution_count": 15,
   "id": "1e8b19ec-dfa1-44b3-93cc-c0c78e56951a",
   "metadata": {},
   "outputs": [
    {
     "data": {
      "text/plain": [
       "<__main__.Nodes at 0x212219cff40>"
      ]
     },
     "execution_count": 15,
     "metadata": {},
     "output_type": "execute_result"
    }
   ],
   "source": [
    "ob2.insert(2,-1)"
   ]
  },
  {
   "cell_type": "code",
   "execution_count": 17,
   "id": "423fbfb0-8299-433f-a99b-3c1da90f5da3",
   "metadata": {},
   "outputs": [
    {
     "data": {
      "text/plain": [
       "1"
      ]
     },
     "execution_count": 17,
     "metadata": {},
     "output_type": "execute_result"
    }
   ],
   "source": [
    "ob2.head.value"
   ]
  },
  {
   "cell_type": "code",
   "execution_count": 18,
   "id": "97de3937-88b9-4863-8958-44ec85a2b701",
   "metadata": {},
   "outputs": [
    {
     "data": {
      "text/plain": [
       "<__main__.Nodes at 0x212219cff40>"
      ]
     },
     "execution_count": 18,
     "metadata": {},
     "output_type": "execute_result"
    }
   ],
   "source": [
    "ob2.head.next"
   ]
  },
  {
   "cell_type": "code",
   "execution_count": 19,
   "id": "699ff2ba-2440-4f01-962e-4b17ff2c1ca2",
   "metadata": {},
   "outputs": [
    {
     "data": {
      "text/plain": [
       "2"
      ]
     },
     "execution_count": 19,
     "metadata": {},
     "output_type": "execute_result"
    }
   ],
   "source": [
    "ob2.head.next.value"
   ]
  },
  {
   "cell_type": "code",
   "execution_count": 20,
   "id": "fd921187-11dd-4977-b9c5-ed1538900b34",
   "metadata": {},
   "outputs": [],
   "source": [
    "ob2.head.next.next"
   ]
  },
  {
   "cell_type": "code",
   "execution_count": 35,
   "id": "decf5c19-455e-422d-b26c-434dcb2e403f",
   "metadata": {},
   "outputs": [
    {
     "name": "stdout",
     "output_type": "stream",
     "text": [
      "The value is not found\n"
     ]
    }
   ],
   "source": [
    "search(ob2.head,3)"
   ]
  },
  {
   "cell_type": "code",
   "execution_count": null,
   "id": "24c4336e-822d-444a-9950-91a265be784b",
   "metadata": {},
   "outputs": [],
   "source": []
  },
  {
   "cell_type": "code",
   "execution_count": null,
   "id": "9b15c342-f59a-4ebb-ae39-917924ea6e4e",
   "metadata": {},
   "outputs": [],
   "source": []
  }
 ],
 "metadata": {
  "kernelspec": {
   "display_name": "Python 3",
   "language": "python",
   "name": "python3"
  },
  "language_info": {
   "codemirror_mode": {
    "name": "ipython",
    "version": 3
   },
   "file_extension": ".py",
   "mimetype": "text/x-python",
   "name": "python",
   "nbconvert_exporter": "python",
   "pygments_lexer": "ipython3",
   "version": "3.8.5"
  }
 },
 "nbformat": 4,
 "nbformat_minor": 5
}
