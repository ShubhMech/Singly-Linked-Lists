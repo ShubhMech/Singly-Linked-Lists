{
 "cells": [
  {
   "cell_type": "markdown",
   "id": "39a4893e-9d4a-4bf7-a628-d27d4536f097",
   "metadata": {},
   "source": [
    "Traversing a singly linked list"
   ]
  },
  {
   "cell_type": "code",
   "execution_count": 1,
   "id": "c453cd4f-b701-4f20-823a-fc0dabeac70c",
   "metadata": {},
   "outputs": [
    {
     "name": "stdout",
     "output_type": "stream",
     "text": [
      "<__main__.Nodes object at 0x0000022C0E9153A0>\n",
      "<__main__.Nodes object at 0x0000022C0E9153A0>\n",
      "<__main__.Nodes object at 0x0000022C0E915340>\n",
      "<__main__.Nodes object at 0x0000022C0E915340>\n",
      "None\n",
      "<__main__.Nodes object at 0x0000022C0E915340>\n",
      "<__main__.Nodes object at 0x0000022C0E9153A0>\n"
     ]
    }
   ],
   "source": [
    "class Nodes:\n",
    "    def __init__(self, value=None):\n",
    "        self.value= value\n",
    "        self.next= None\n",
    "    \n",
    "    \n",
    "class SlinkedList:\n",
    "    def __init__(self):\n",
    "        self.head=None\n",
    "        self.tail= None\n",
    "        \n",
    "    def insert(self,value,location):\n",
    "        newNode=Nodes(value)\n",
    "        if self.head ==None:\n",
    "            self.head=newNode\n",
    "            self.tail=newNode\n",
    "            \n",
    "        elif location==0:\n",
    "#             newNode=Nodes(value)\n",
    "            newNode.next=self.head\n",
    "            self.head=newNode\n",
    "            \n",
    "        elif location==-1:\n",
    "#             newNode=Nodes(value)\n",
    "            self.tail.next=newNode\n",
    "            self.tail=newNode\n",
    "            \n",
    "        else:\n",
    "            temp_node=self.head\n",
    "            i=0\n",
    "            while i<location-1:\n",
    "                temp_node=temp_node.next\n",
    "                i += 1\n",
    "                \n",
    "            newNode.next=temp_node.next\n",
    "            temp_node.next=newNode\n",
    "                \n",
    "            if temp_node== self.tail:\n",
    "                self.tail=newNode\n",
    "        \n",
    "        return newNode\n",
    "\n",
    "                \n",
    "                \n",
    "ob1= SlinkedList()\n",
    "\n",
    "node1=ob1.insert(1,0)\n",
    "print(ob1.head)\n",
    "print(ob1.tail)\n",
    "\n",
    "node2=ob1.insert(2,-1)\n",
    "print(node1.next)\n",
    "print(ob1.tail)\n",
    "\n",
    "node3= ob1.insert(3,0)\n",
    "print(node2.next)\n",
    "print(ob1.tail)\n",
    "\n",
    "print(node3.next)\n",
    "                \n",
    "node1.next==node2\n",
    "\n",
    "node4=ob1.insert(4,2)\n",
    "\n",
    "\n",
    "\n",
    "            \n",
    "            \n",
    "        \n",
    "        \n",
    "        "
   ]
  },
  {
   "cell_type": "code",
   "execution_count": 2,
   "id": "1a1c7f96-8823-482e-a05a-f0d2dd5249f3",
   "metadata": {},
   "outputs": [
    {
     "data": {
      "text/plain": [
       "<__main__.Nodes at 0x22c0e9153a0>"
      ]
     },
     "execution_count": 2,
     "metadata": {},
     "output_type": "execute_result"
    }
   ],
   "source": [
    "node1"
   ]
  },
  {
   "cell_type": "code",
   "execution_count": 3,
   "id": "12dea5e3-f896-406c-9be8-dfb7b4d99b93",
   "metadata": {},
   "outputs": [
    {
     "data": {
      "text/plain": [
       "<__main__.Nodes at 0x22c0e915340>"
      ]
     },
     "execution_count": 3,
     "metadata": {},
     "output_type": "execute_result"
    }
   ],
   "source": [
    "node2"
   ]
  },
  {
   "cell_type": "code",
   "execution_count": 4,
   "id": "63f176b9-91c2-4bc0-b519-3edd40a5422d",
   "metadata": {},
   "outputs": [
    {
     "data": {
      "text/plain": [
       "<__main__.Nodes at 0x22c0e915100>"
      ]
     },
     "execution_count": 4,
     "metadata": {},
     "output_type": "execute_result"
    }
   ],
   "source": [
    "node3"
   ]
  },
  {
   "cell_type": "code",
   "execution_count": 5,
   "id": "f3a9828d-b345-4026-883b-e1d9c0226034",
   "metadata": {},
   "outputs": [
    {
     "data": {
      "text/plain": [
       "<__main__.Nodes at 0x22c0e914f70>"
      ]
     },
     "execution_count": 5,
     "metadata": {},
     "output_type": "execute_result"
    }
   ],
   "source": [
    "node4"
   ]
  },
  {
   "cell_type": "code",
   "execution_count": 10,
   "id": "11d0336a-cb82-47f5-93ae-5dc68edd1ea5",
   "metadata": {},
   "outputs": [],
   "source": [
    "ob1.head.next.next.next.next"
   ]
  },
  {
   "cell_type": "markdown",
   "id": "6c1c173b-a524-4cac-a674-cae489df6ce6",
   "metadata": {},
   "source": [
    "#### Making a function to realise this traversal"
   ]
  },
  {
   "cell_type": "code",
   "execution_count": 34,
   "id": "1c6a0ccd-7c8c-4eea-a4d5-d22daa60657b",
   "metadata": {},
   "outputs": [],
   "source": [
    "\n",
    "def node_traversal(head):\n",
    "    i=0\n",
    "    temp=head\n",
    "    if head is None:\n",
    "        print(\"No nodes to print\")\n",
    "    while(True):\n",
    "        print(f\"The {i}th node is:\")\n",
    "        \n",
    "        print(temp)\n",
    "        print(f\"The value of the node is: {temp.value}\" )\n",
    "               \n",
    "        temp=temp.next \n",
    "        \n",
    "        \n",
    "        if temp is None:\n",
    "            break\n",
    "#             print(\"The next node for this node is: \", temp.next )\n",
    "\n",
    "        i +=1\n",
    "        \n",
    "        "
   ]
  },
  {
   "cell_type": "code",
   "execution_count": 35,
   "id": "eb0a075b-de39-40af-9a35-5797b8bf2d70",
   "metadata": {},
   "outputs": [
    {
     "name": "stdout",
     "output_type": "stream",
     "text": [
      "The 0th node is:\n",
      "<__main__.Nodes object at 0x0000022C0E915100>\n",
      "The value of the node is: 3\n",
      "The 1th node is:\n",
      "<__main__.Nodes object at 0x0000022C0E9153A0>\n",
      "The value of the node is: 1\n",
      "The 2th node is:\n",
      "<__main__.Nodes object at 0x0000022C0E914F70>\n",
      "The value of the node is: 4\n",
      "The 3th node is:\n",
      "<__main__.Nodes object at 0x0000022C0E915340>\n",
      "The value of the node is: 2\n"
     ]
    }
   ],
   "source": [
    "node_traversal(ob1.head)"
   ]
  },
  {
   "cell_type": "code",
   "execution_count": 26,
   "id": "e9f18216-1ede-4fe2-a2fb-9c0a26ed2d2c",
   "metadata": {},
   "outputs": [],
   "source": [
    "ob1.head.next.next.next.next"
   ]
  },
  {
   "cell_type": "code",
   "execution_count": null,
   "id": "af6a4105-ae5a-43bb-a390-440273d8889f",
   "metadata": {},
   "outputs": [],
   "source": []
  }
 ],
 "metadata": {
  "kernelspec": {
   "display_name": "Python 3",
   "language": "python",
   "name": "python3"
  },
  "language_info": {
   "codemirror_mode": {
    "name": "ipython",
    "version": 3
   },
   "file_extension": ".py",
   "mimetype": "text/x-python",
   "name": "python",
   "nbconvert_exporter": "python",
   "pygments_lexer": "ipython3",
   "version": "3.8.5"
  }
 },
 "nbformat": 4,
 "nbformat_minor": 5
}
